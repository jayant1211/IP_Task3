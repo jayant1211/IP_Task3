{
 "cells": [
  {
   "cell_type": "code",
   "execution_count": 58,
   "metadata": {},
   "outputs": [],
   "source": [
    "import os\n",
    "from keras.models import load_model\n",
    "model = load_model(\"./Models/3.model\")"
   ]
  },
  {
   "cell_type": "code",
   "execution_count": 59,
   "metadata": {},
   "outputs": [],
   "source": [
    "classes = { 0:'Speed limit (20km/h)',\n",
    "            1:'Speed limit (30km/h)', \n",
    "            2:'Speed limit (50km/h)', \n",
    "            3:'Speed limit (60km/h)', \n",
    "            4:'Speed limit (70km/h)', \n",
    "            5:'Speed limit (80km/h)', \n",
    "            6:'End of speed limit (80km/h)', \n",
    "            7:'Speed limit (100km/h)', \n",
    "            8:'Speed limit (120km/h)', \n",
    "            9:'No passing', \n",
    "            10:'No passing veh over 3.5 tons', \n",
    "            11:'Right-of-way at intersection', \n",
    "            12:'Priority road', \n",
    "            13:'Yield', \n",
    "            14:'Stop', \n",
    "            15:'No vehicles', \n",
    "            16:'Veh > 3.5 tons prohibited', \n",
    "            17:'No entry', \n",
    "            18:'General caution', \n",
    "            19:'Dangerous curve left', \n",
    "            20:'Dangerous curve right', \n",
    "            21:'Double curve', \n",
    "            22:'Bumpy road', \n",
    "            23:'Slippery road', \n",
    "            24:'Road narrows on the right', \n",
    "            25:'Road work', \n",
    "            26:'Traffic signals', \n",
    "            27:'Pedestrians', \n",
    "            28:'Children crossing', \n",
    "            29:'Bicycles crossing', \n",
    "            30:'Beware of ice/snow',\n",
    "            31:'Wild animals crossing', \n",
    "            32:'End speed + passing limits', \n",
    "            33:'Turn right ahead', \n",
    "            34:'Turn left ahead', \n",
    "            35:'Ahead only', \n",
    "            36:'Go straight or right', \n",
    "            37:'Go straight or left', \n",
    "            38:'Keep right', \n",
    "            39:'Keep left', \n",
    "            40:'Roundabout mandatory', \n",
    "            41:'End of no passing', \n",
    "            42:'End no passing veh > 3.5 tons' }"
   ]
  },
  {
   "cell_type": "code",
   "execution_count": 60,
   "metadata": {},
   "outputs": [],
   "source": [
    "def getContours(img,imgContour):\n",
    "    contours, hierarchy = cv2.findContours(img, cv2.RETR_EXTERNAL, cv2.CHAIN_APPROX_NONE)\n",
    "    new=[]\n",
    "    for cnt in contours:\n",
    "        area = cv2.contourArea(cnt)\n",
    "        areaMin = 5000\n",
    "        if area > areaMin:\n",
    "            peri = cv2.arcLength(cnt, True)\n",
    "            approx = cv2.approxPolyDP(cnt, 0.02 * peri, True)\n",
    "            print(len(approx))\n",
    "            x , y , w, h = cv2.boundingRect(approx)\n",
    "           \n",
    "            if h>=50 and w>=50 and h-w<10:\n",
    "                 cv2.rectangle(imgContour, (x-50 , y-50 ), (x + w+50 , y + h +50), (0, 255, 0), 5)\n",
    "                 new.append(((x , y ), (x + w , y + h )))\n",
    "    return new\n"
   ]
  },
  {
   "cell_type": "code",
   "execution_count": 61,
   "metadata": {},
   "outputs": [
    {
     "name": "stdout",
     "output_type": "stream",
     "text": [
      "2\n",
      "14\n",
      "[((160, 493), (296, 633))]\n",
      "Predicted traffic sign is:  Speed limit (100km/h)\n"
     ]
    }
   ],
   "source": [
    "import cv2 \n",
    "import numpy as np\n",
    "import matplotlib.pyplot as plt\n",
    "\n",
    "#image\n",
    "images = os.listdir('./images')\n",
    "for image in images:\n",
    "    data=[]\n",
    "    path = \"1.jpg\"\n",
    "    image = cv2.imread(path)\n",
    "    img=image\n",
    "    imgContour = img.copy()\n",
    "    imgBlur = cv2.GaussianBlur(img, (7, 7), 1)\n",
    "    imgGray = cv2.cvtColor(imgBlur, cv2.COLOR_BGR2GRAY)\n",
    "    threshold1 =255\n",
    "    threshold2 = 255\n",
    "    imgCanny = cv2.Canny(imgGray,threshold1,threshold2)\n",
    "    kernel = np.ones((5, 5))\n",
    "    imgDil = cv2.dilate(imgCanny, kernel, iterations=1)\n",
    "    array = getContours(imgDil,imgContour)\n",
    "    print(array)\n",
    "    for cropped in range(len(array)):\n",
    "        ROI = image[array[0][0][1]-50:array[0][1][1]+50,array[0][0][0]-50:array[0][1][0]+50]\n",
    "        cv2.imshow('roi',ROI)\n",
    "        resize = cv2.resize(ROI,(50,50))\n",
    "        data.append(np.array(resize))\n",
    "        X_test=np.array(data)\n",
    "        Y_pred = model.predict_classes(X_test)\n",
    "        print(\"Predicted traffic sign is: \", classes[Y_pred[0]])\n",
    "        cv2.putText(imgContour,  classes[Y_pred[0]] , (10,50), cv2.FONT_HERSHEY_COMPLEX, 2,\n",
    "                        (0, 0, 0), 2)\n",
    "    cv2.imshow('image',cv2.resize(imgContour,(500,500)))\n",
    "    k = cv2.waitKey(0) & 0xff\n",
    "    if k == 27:\n",
    "        break\n",
    "\n",
    "#video\n",
    "'''\n",
    "cap= cv2.VideoCapture('2.mp4')\n",
    "temp=50\n",
    "while(1):\n",
    "    ret, frame = cap.read()\n",
    "    resized = cv2.resize(frame,(50,50))\n",
    "    data = []\n",
    "    data.append(np.array(resized))\n",
    "    X_test = np.array(data)\n",
    "    Y_pred = model.predict_classes(X_test)\n",
    "    #print(temp-Y_pred)\n",
    "    if(temp-Y_pred[0]):\n",
    "        print(\"Traffic sign : \", classes[Y_pred[0]])\n",
    "    temp=Y_pred[0]\n",
    "    cv2.imshow('video', cv2.resize(frame,(300,300))\n",
    "    cap.release()'''\n",
    "cv2.destroyAllWindows()"
   ]
  },
  {
   "cell_type": "code",
   "execution_count": null,
   "metadata": {},
   "outputs": [],
   "source": []
  },
  {
   "cell_type": "code",
   "execution_count": null,
   "metadata": {},
   "outputs": [],
   "source": []
  }
 ],
 "metadata": {
  "kernelspec": {
   "display_name": "Python 3",
   "language": "python",
   "name": "python3"
  },
  "language_info": {
   "codemirror_mode": {
    "name": "ipython",
    "version": 3
   },
   "file_extension": ".py",
   "mimetype": "text/x-python",
   "name": "python",
   "nbconvert_exporter": "python",
   "pygments_lexer": "ipython3",
   "version": "3.7.6"
  }
 },
 "nbformat": 4,
 "nbformat_minor": 4
}
