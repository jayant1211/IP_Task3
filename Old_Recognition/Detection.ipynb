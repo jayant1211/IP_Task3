{
 "cells": [
  {
   "cell_type": "code",
   "execution_count": 7,
   "metadata": {},
   "outputs": [],
   "source": [
    "import os\n",
    "from keras.models import load_model\n",
    "model = load_model(\"./Models/3.model\")"
   ]
  },
  {
   "cell_type": "code",
   "execution_count": 8,
   "metadata": {},
   "outputs": [],
   "source": [
    "classes = { 0:'Speed limit (20km/h)',\n",
    "            1:'Speed limit (30km/h)', \n",
    "            2:'Speed limit (50km/h)', \n",
    "            3:'Speed limit (60km/h)', \n",
    "            4:'Speed limit (70km/h)', \n",
    "            5:'Speed limit (80km/h)', \n",
    "            6:'End of speed limit (80km/h)', \n",
    "            7:'Speed limit (100km/h)', \n",
    "            8:'Speed limit (120km/h)', \n",
    "            9:'No passing', \n",
    "            10:'No passing veh over 3.5 tons', \n",
    "            11:'Right-of-way at intersection', \n",
    "            12:'Priority road', \n",
    "            13:'Yield', \n",
    "            14:'Stop', \n",
    "            15:'No vehicles', \n",
    "            16:'Veh > 3.5 tons prohibited', \n",
    "            17:'No entry', \n",
    "            18:'General caution', \n",
    "            19:'Dangerous curve left', \n",
    "            20:'Dangerous curve right', \n",
    "            21:'Double curve', \n",
    "            22:'Bumpy road', \n",
    "            23:'Slippery road', \n",
    "            24:'Road narrows on the right', \n",
    "            25:'Road work', \n",
    "            26:'Traffic signals', \n",
    "            27:'Pedestrians', \n",
    "            28:'Children crossing', \n",
    "            29:'Bicycles crossing', \n",
    "            30:'Beware of ice/snow',\n",
    "            31:'Wild animals crossing', \n",
    "            32:'End speed + passing limits', \n",
    "            33:'Turn right ahead', \n",
    "            34:'Turn left ahead', \n",
    "            35:'Ahead only', \n",
    "            36:'Go straight or right', \n",
    "            37:'Go straight or left', \n",
    "            38:'Keep right', \n",
    "            39:'Keep left', \n",
    "            40:'Roundabout mandatory', \n",
    "            41:'End of no passing', \n",
    "            42:'End no passing veh > 3.5 tons' }"
   ]
  },
  {
   "cell_type": "code",
   "execution_count": 9,
   "metadata": {},
   "outputs": [
    {
     "name": "stdout",
     "output_type": "stream",
     "text": [
      "Predicted traffic sign is:  Speed limit (20km/h)\n",
      "Predicted traffic sign is:  Veh > 3.5 tons prohibited\n",
      "Predicted traffic sign is:  Speed limit (30km/h)\n",
      "Predicted traffic sign is:  Keep right\n",
      "Predicted traffic sign is:  Turn right ahead\n"
     ]
    }
   ],
   "source": [
    "import cv2 \n",
    "import numpy as np\n",
    "import matplotlib.pyplot as plt\n",
    "\n",
    "#image\n",
    "images = os.listdir('./images')\n",
    "for image in images:\n",
    "    data=[]\n",
    "    path = os.path.join('./images',image)\n",
    "    image = cv2.imread(path)\n",
    "    resized = cv2.resize(image,(50,50))\n",
    "    data.append(np.array(resized))\n",
    "    X_test=np.array(data)\n",
    "    Y_pred = model.predict_classes(X_test)\n",
    "    print(\"Predicted traffic sign is: \", classes[Y_pred[0]])\n",
    "    cv2.imshow('image',cv2.resize(image,(300,300)))\n",
    "    k = cv2.waitKey(0) & 0xff\n",
    "    if k == 27:\n",
    "        break\n",
    "\n",
    "#video\n",
    "'''cap= cv2.VideoCapture('2.mp4')\n",
    "temp=50\n",
    "while(1):\n",
    "    ret, frame = cap.read()\n",
    "    resized = cv2.resize(frame,(50,50))\n",
    "    data = []\n",
    "    data.append(np.array(resized))\n",
    "    X_test = np.array(data)\n",
    "    Y_pred = model.predict_classes(X_test)\n",
    "    #print(temp-Y_pred)\n",
    "    if(temp-Y_pred[0]):\n",
    "        print(\"Traffic sign : \", classes[Y_pred[0]])\n",
    "    temp=Y_pred[0]\n",
    "    cv2.imshow('video', cv2.resize(frame,(300,300))\n",
    "    \n",
    "cap.release()'''\n",
    "cv2.destroyAllWindows()"
   ]
  },
  {
   "cell_type": "code",
   "execution_count": null,
   "metadata": {},
   "outputs": [],
   "source": []
  },
  {
   "cell_type": "code",
   "execution_count": null,
   "metadata": {},
   "outputs": [],
   "source": []
  }
 ],
 "metadata": {
  "kernelspec": {
   "display_name": "Python 3",
   "language": "python",
   "name": "python3"
  },
  "language_info": {
   "codemirror_mode": {
    "name": "ipython",
    "version": 3
   },
   "file_extension": ".py",
   "mimetype": "text/x-python",
   "name": "python",
   "nbconvert_exporter": "python",
   "pygments_lexer": "ipython3",
   "version": "3.7.6"
  }
 },
 "nbformat": 4,
 "nbformat_minor": 4
}
