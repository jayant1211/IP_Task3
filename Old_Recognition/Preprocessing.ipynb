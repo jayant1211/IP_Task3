{
 "cells": [
  {
   "cell_type": "code",
   "execution_count": 33,
   "metadata": {},
   "outputs": [],
   "source": [
    "import pandas as pd\n",
    "import numpy as np\n",
    "import matplotlib.pyplot as plt\n",
    "import cv2\n",
    "import tensorflow as tf\n",
    "import os\n",
    "from sklearn.model_selection import train_test_split\n",
    "from keras.utils import to_categorical\n",
    "from keras.models import Sequential, load_model\n",
    "from keras.layers import Conv2D, MaxPool2D, Dense, Flatten, Dropout"
   ]
  },
  {
   "cell_type": "code",
   "execution_count": 34,
   "metadata": {},
   "outputs": [],
   "source": [
    "data = []\n",
    "labels = []\n",
    "classes = 43"
   ]
  },
  {
   "cell_type": "code",
   "execution_count": 35,
   "metadata": {},
   "outputs": [],
   "source": [
    "for i in range(classes):\n",
    "    path = os.path.join('train',str(i))\n",
    "    images = os.listdir(path)\n",
    "    for a in images:\n",
    "        try:\n",
    "            img_path = os.path.join(path,a)\n",
    "            image = cv2.imread(img_path)\n",
    "            image = cv2.resize(image,(50,50))\n",
    "            image = np.array(image)\n",
    "            data.append(image)\n",
    "            labels.append(i)\n",
    "        except Exception as e:\n",
    "            print(e)"
   ]
  },
  {
   "cell_type": "code",
   "execution_count": 36,
   "metadata": {},
   "outputs": [],
   "source": [
    "data = np.array(data)\n",
    "labels = np.array(labels)"
   ]
  },
  {
   "cell_type": "code",
   "execution_count": 37,
   "metadata": {},
   "outputs": [],
   "source": [
    "#os.mkdir('training')\n",
    "\n",
    "np.save('./training/data',data)\n",
    "np.save('./training/target',labels)"
   ]
  },
  {
   "cell_type": "code",
   "execution_count": 38,
   "metadata": {},
   "outputs": [],
   "source": [
    "data=np.load('./training/data.npy')\n",
    "labels=np.load('./training/target.npy')"
   ]
  },
  {
   "cell_type": "code",
   "execution_count": 39,
   "metadata": {},
   "outputs": [],
   "source": [
    "X_train, X_test, y_train, y_test = train_test_split(data, labels, test_size=0.2, random_state=0)"
   ]
  },
  {
   "cell_type": "code",
   "execution_count": 40,
   "metadata": {},
   "outputs": [
    {
     "name": "stdout",
     "output_type": "stream",
     "text": [
      "(31416, 50, 50, 3) (7855, 50, 50, 3) (31416,) (7855,)\n"
     ]
    }
   ],
   "source": [
    "print(X_train.shape, X_test.shape, y_train.shape, y_test.shape)"
   ]
  },
  {
   "cell_type": "code",
   "execution_count": 41,
   "metadata": {},
   "outputs": [],
   "source": [
    "y_train = to_categorical(y_train, 43)\n",
    "y_test = to_categorical(y_test, 43)"
   ]
  },
  {
   "cell_type": "code",
   "execution_count": 42,
   "metadata": {},
   "outputs": [],
   "source": [
    "model = Sequential()\n",
    "\n",
    "model.add(Conv2D(filters=64, kernel_size=(3,3),activation='relu', input_shape=X_train.shape[1:]))\n",
    "model.add(MaxPool2D(pool_size=(2, 2)))\n",
    "\n",
    "model.add(Dropout(rate=0.25))\n",
    "\n",
    "model.add(Conv2D(filters=32, kernel_size=(3, 3), activation='relu'))\n",
    "model.add(Conv2D(filters=32, kernel_size=(3, 3), activation='relu'))\n",
    "model.add(MaxPool2D(pool_size=(2, 2)))\n",
    "\n",
    "model.add(Dropout(rate=0.25))\n",
    "\n",
    "model.add(Flatten())\n",
    "model.add(Dense(256, activation='relu'))\n",
    "\n",
    "model.add(Dropout(rate=0.5))\n",
    "model.add(Dense(43, activation='softmax'))"
   ]
  },
  {
   "cell_type": "code",
   "execution_count": 43,
   "metadata": {},
   "outputs": [],
   "source": [
    "model.compile(loss='categorical_crossentropy', optimizer='adam', metrics=['accuracy'])"
   ]
  },
  {
   "cell_type": "code",
   "execution_count": 44,
   "metadata": {
    "scrolled": false
   },
   "outputs": [
    {
     "name": "stdout",
     "output_type": "stream",
     "text": [
      "Epoch 1/20\n",
      "982/982 [==============================] - 111s 113ms/step - loss: 2.6384 - accuracy: 0.3780 - val_loss: 0.4339 - val_accuracy: 0.8876\n",
      "Epoch 2/20\n",
      "982/982 [==============================] - 111s 113ms/step - loss: 0.5960 - accuracy: 0.8316 - val_loss: 0.1617 - val_accuracy: 0.9596\n",
      "Epoch 3/20\n",
      "982/982 [==============================] - 112s 114ms/step - loss: 0.3602 - accuracy: 0.8990 - val_loss: 0.1011 - val_accuracy: 0.9759\n",
      "Epoch 4/20\n",
      "982/982 [==============================] - 111s 113ms/step - loss: 0.2750 - accuracy: 0.9253 - val_loss: 0.0728 - val_accuracy: 0.9843\n",
      "Epoch 5/20\n",
      "982/982 [==============================] - 112s 114ms/step - loss: 0.2421 - accuracy: 0.9326 - val_loss: 0.0768 - val_accuracy: 0.9785\n",
      "Epoch 6/20\n",
      "982/982 [==============================] - 111s 113ms/step - loss: 0.2171 - accuracy: 0.9412 - val_loss: 0.0703 - val_accuracy: 0.9818\n",
      "Epoch 7/20\n",
      "982/982 [==============================] - 111s 113ms/step - loss: 0.2046 - accuracy: 0.9446 - val_loss: 0.0619 - val_accuracy: 0.9852\n",
      "Epoch 8/20\n",
      "982/982 [==============================] - 111s 113ms/step - loss: 0.1956 - accuracy: 0.9477 - val_loss: 0.1154 - val_accuracy: 0.9706\n",
      "Epoch 9/20\n",
      "982/982 [==============================] - 111s 113ms/step - loss: 0.1765 - accuracy: 0.9537 - val_loss: 0.0712 - val_accuracy: 0.9841\n",
      "Epoch 10/20\n",
      "982/982 [==============================] - 111s 113ms/step - loss: 0.1710 - accuracy: 0.9537 - val_loss: 0.0533 - val_accuracy: 0.9884\n",
      "Epoch 11/20\n",
      "982/982 [==============================] - 111s 113ms/step - loss: 0.1651 - accuracy: 0.9573 - val_loss: 0.0628 - val_accuracy: 0.9851\n",
      "Epoch 12/20\n",
      "982/982 [==============================] - 110s 112ms/step - loss: 0.1681 - accuracy: 0.9589 - val_loss: 0.0519 - val_accuracy: 0.9901\n",
      "Epoch 13/20\n",
      "982/982 [==============================] - 111s 113ms/step - loss: 0.1606 - accuracy: 0.9602 - val_loss: 0.0514 - val_accuracy: 0.9884\n",
      "Epoch 14/20\n",
      "982/982 [==============================] - 111s 113ms/step - loss: 0.1706 - accuracy: 0.9596 - val_loss: 0.0553 - val_accuracy: 0.9869\n",
      "Epoch 15/20\n",
      "982/982 [==============================] - 111s 113ms/step - loss: 0.1562 - accuracy: 0.9619 - val_loss: 0.0500 - val_accuracy: 0.9901\n",
      "Epoch 16/20\n",
      "982/982 [==============================] - 111s 113ms/step - loss: 0.1528 - accuracy: 0.9624 - val_loss: 0.0489 - val_accuracy: 0.9907\n",
      "Epoch 17/20\n",
      "982/982 [==============================] - 111s 113ms/step - loss: 0.1622 - accuracy: 0.9616 - val_loss: 0.1328 - val_accuracy: 0.9680\n",
      "Epoch 18/20\n",
      "982/982 [==============================] - 112s 114ms/step - loss: 0.1565 - accuracy: 0.9642 - val_loss: 0.0539 - val_accuracy: 0.9910\n",
      "Epoch 19/20\n",
      "982/982 [==============================] - 113s 115ms/step - loss: 0.1661 - accuracy: 0.9616 - val_loss: 0.0450 - val_accuracy: 0.9907\n",
      "Epoch 20/20\n",
      "982/982 [==============================] - 113s 115ms/step - loss: 0.1660 - accuracy: 0.9629 - val_loss: 0.0518 - val_accuracy: 0.9897\n"
     ]
    },
    {
     "data": {
      "text/plain": [
       "<tensorflow.python.keras.callbacks.History at 0x1c12145b408>"
      ]
     },
     "execution_count": 44,
     "metadata": {},
     "output_type": "execute_result"
    }
   ],
   "source": [
    "model.fit(X_train, y_train, batch_size=32, epochs=20, validation_data=(X_test, y_test))"
   ]
  },
  {
   "cell_type": "code",
   "execution_count": 45,
   "metadata": {},
   "outputs": [
    {
     "name": "stdout",
     "output_type": "stream",
     "text": [
      "246/246 [==============================] - 5s 21ms/step - loss: 0.0518 - accuracy: 0.9897\n"
     ]
    }
   ],
   "source": [
    "val_loss,val_acc=model.evaluate(X_test,y_test)"
   ]
  },
  {
   "cell_type": "code",
   "execution_count": 46,
   "metadata": {},
   "outputs": [
    {
     "name": "stdout",
     "output_type": "stream",
     "text": [
      "WARNING:tensorflow:From C:\\Users\\jayan\\anaconda3\\lib\\site-packages\\tensorflow\\python\\training\\tracking\\tracking.py:111: Model.state_updates (from tensorflow.python.keras.engine.training) is deprecated and will be removed in a future version.\n",
      "Instructions for updating:\n",
      "This property should not be used in TensorFlow 2.0, as updates are applied automatically.\n",
      "WARNING:tensorflow:From C:\\Users\\jayan\\anaconda3\\lib\\site-packages\\tensorflow\\python\\training\\tracking\\tracking.py:111: Layer.updates (from tensorflow.python.keras.engine.base_layer) is deprecated and will be removed in a future version.\n",
      "Instructions for updating:\n",
      "This property should not be used in TensorFlow 2.0, as updates are applied automatically.\n",
      "INFO:tensorflow:Assets written to: ./Models/3.model\\assets\n"
     ]
    }
   ],
   "source": [
    "model.save(\"./Models/3.model\")"
   ]
  },
  {
   "cell_type": "code",
   "execution_count": null,
   "metadata": {},
   "outputs": [],
   "source": []
  }
 ],
 "metadata": {
  "kernelspec": {
   "display_name": "Python 3",
   "language": "python",
   "name": "python3"
  },
  "language_info": {
   "codemirror_mode": {
    "name": "ipython",
    "version": 3
   },
   "file_extension": ".py",
   "mimetype": "text/x-python",
   "name": "python",
   "nbconvert_exporter": "python",
   "pygments_lexer": "ipython3",
   "version": "3.7.6"
  }
 },
 "nbformat": 4,
 "nbformat_minor": 4
}
